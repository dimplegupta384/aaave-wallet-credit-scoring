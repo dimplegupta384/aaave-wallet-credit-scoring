{
 "cells": [
  {
   "cell_type": "code",
   "execution_count": 1,
   "id": "3d4dbd48-1e0f-4990-aa57-e9de7d767d92",
   "metadata": {},
   "outputs": [],
   "source": [
    "import json\n",
    "import pandas as pd\n",
    "import numpy as np\n",
    "from sklearn.preprocessing import MinMaxScaler"
   ]
  },
  {
   "cell_type": "code",
   "execution_count": 3,
   "id": "fb8423c3-cd19-40aa-bf48-5211b393a494",
   "metadata": {},
   "outputs": [],
   "source": [
    "with open('Downloads/user-wallet-transactions.json', 'r') as file:\n",
    "    transactions = json.load(file)\n"
   ]
  },
  {
   "cell_type": "code",
   "execution_count": 4,
   "id": "8fff9bf4-8900-4b66-9bd9-0057fa0ee2f8",
   "metadata": {},
   "outputs": [],
   "source": [
    "records = []\n",
    "for tx in transactions:\n",
    "    records.append({\n",
    "        'wallet': tx.get('wallet_address'),\n",
    "        'tx_type': tx.get('transaction_type'),\n",
    "        'amount': float(tx.get('amount', 0)),\n",
    "        'timestamp': tx.get('timestamp', None)\n",
    "    })\n",
    "\n",
    "df = pd.DataFrame(records)"
   ]
  },
  {
   "cell_type": "code",
   "execution_count": 6,
   "id": "5801a5de-9503-4c9d-928f-b252961fbcce",
   "metadata": {},
   "outputs": [
    {
     "name": "stdout",
     "output_type": "stream",
     "text": [
      "                                    _id  \\\n",
      "0  {'$oid': '681d38fed63812d4655f571a'}   \n",
      "1  {'$oid': '681aa70dd6df53021cc6f3c0'}   \n",
      "2  {'$oid': '681d04c2d63812d4654c733e'}   \n",
      "3  {'$oid': '681d133bd63812d46551b6ef'}   \n",
      "4  {'$oid': '681899e4ba49fc91cf2f4454'}   \n",
      "\n",
      "                                   userWallet  network protocol  \\\n",
      "0  0x00000000001accfa9cef68cf5371a23025b6d4b6  polygon  aave_v2   \n",
      "1  0x000000000051d07a4fb3bd10121a343d85818da6  polygon  aave_v2   \n",
      "2  0x000000000096026fb41fc39f9875d164bd82e2dc  polygon  aave_v2   \n",
      "3  0x000000000096026fb41fc39f9875d164bd82e2dc  polygon  aave_v2   \n",
      "4  0x0000000000e189dd664b9ab08a33c4839953852c  polygon  aave_v2   \n",
      "\n",
      "                                              txHash  \\\n",
      "0  0x695c69acf608fbf5d38e48ca5535e118cc213a89e3d6...   \n",
      "1  0xe6fc162c86b2928b0ba9b82bda672763665152b9de9d...   \n",
      "2  0xe2d7eb815c89331a734ed6f204a06c385a1b39040baa...   \n",
      "3  0x0d63a2eacd82b82f868db825ea7385e6bd8d046ee729...   \n",
      "4  0x590eabb812c5006a6f4766f44e6e9d3ad0b5b563de69...   \n",
      "\n",
      "                                               logId   timestamp  blockNumber  \\\n",
      "0  0x695c69acf608fbf5d38e48ca5535e118cc213a89e3d6...  1629178166   1629178166   \n",
      "1  0xe6fc162c86b2928b0ba9b82bda672763665152b9de9d...  1621525013   1621525013   \n",
      "2  0xe2d7eb815c89331a734ed6f204a06c385a1b39040baa...  1627118913   1627118913   \n",
      "3  0x0d63a2eacd82b82f868db825ea7385e6bd8d046ee729...  1627773318   1627773318   \n",
      "4  0x590eabb812c5006a6f4766f44e6e9d3ad0b5b563de69...  1618845907   1618845907   \n",
      "\n",
      "             action                                         actionData  __v  \\\n",
      "0           deposit  {'type': 'Deposit', 'amount': '2000000000', 'a...    0   \n",
      "1           deposit  {'type': 'Deposit', 'amount': '145000000000000...    0   \n",
      "2           deposit  {'type': 'Deposit', 'amount': '100000000000000...    0   \n",
      "3           deposit  {'type': 'Deposit', 'amount': '400000000000000...    0   \n",
      "4  redeemunderlying  {'type': 'RedeemUnderlying', 'amount': '501548...    0   \n",
      "\n",
      "                               createdAt  \\\n",
      "0  {'$date': '2025-05-08T23:06:39.465Z'}   \n",
      "1  {'$date': '2025-05-07T00:19:26.159Z'}   \n",
      "2  {'$date': '2025-05-08T19:23:47.877Z'}   \n",
      "3  {'$date': '2025-05-08T20:25:33.141Z'}   \n",
      "4  {'$date': '2025-05-05T10:58:45.934Z'}   \n",
      "\n",
      "                               updatedAt  \n",
      "0  {'$date': '2025-05-08T23:06:39.465Z'}  \n",
      "1  {'$date': '2025-05-07T00:19:26.159Z'}  \n",
      "2  {'$date': '2025-05-08T19:23:47.877Z'}  \n",
      "3  {'$date': '2025-05-08T20:25:33.141Z'}  \n",
      "4  {'$date': '2025-05-05T10:58:45.934Z'}  \n"
     ]
    }
   ],
   "source": [
    "df = pd.DataFrame(transactions)\n",
    "print(df.head())\n",
    "\n",
    "\n"
   ]
  },
  {
   "cell_type": "code",
   "execution_count": 7,
   "id": "9b9e450d-867e-49b8-a553-cf361841bb5e",
   "metadata": {},
   "outputs": [
    {
     "name": "stdout",
     "output_type": "stream",
     "text": [
      "                                       wallet           tx_type        amount  \\\n",
      "0  0x00000000001accfa9cef68cf5371a23025b6d4b6           deposit  2.000000e-09   \n",
      "1  0x000000000051d07a4fb3bd10121a343d85818da6           deposit  1.450000e+02   \n",
      "2  0x000000000096026fb41fc39f9875d164bd82e2dc           deposit  1.000000e-03   \n",
      "3  0x000000000096026fb41fc39f9875d164bd82e2dc           deposit  4.000000e-03   \n",
      "4  0x0000000000e189dd664b9ab08a33c4839953852c  redeemunderlying  5.015480e-13   \n",
      "\n",
      "    timestamp  \n",
      "0  1629178166  \n",
      "1  1621525013  \n",
      "2  1627118913  \n",
      "3  1627773318  \n",
      "4  1618845907  \n"
     ]
    }
   ],
   "source": [
    "import pandas as pd\n",
    "\n",
    "# Extract 'amount' from nested actionData\n",
    "df['amount'] = df['actionData'].apply(lambda x: float(x.get('amount', 0)) if isinstance(x, dict) else 0)\n",
    "\n",
    "# Optional: Convert raw amounts from Wei (if using Ethereum units) to Ether\n",
    "df['amount'] = df['amount'] / 1e18\n",
    "\n",
    "# Select required columns\n",
    "df_clean = df[['userWallet', 'action', 'amount', 'timestamp']].copy()\n",
    "\n",
    "# Rename for consistency\n",
    "df_clean.columns = ['wallet', 'tx_type', 'amount', 'timestamp']\n",
    "\n",
    "# Check data\n",
    "print(df_clean.head())\n"
   ]
  },
  {
   "cell_type": "code",
   "execution_count": 8,
   "id": "f9bad518-2a78-4d0e-b416-ba64864dc103",
   "metadata": {},
   "outputs": [
    {
     "name": "stdout",
     "output_type": "stream",
     "text": [
      "                                            total_deposits  total_borrows  \\\n",
      "wallet                                                                      \n",
      "0x00000000001accfa9cef68cf5371a23025b6d4b6    2.000000e-09            0.0   \n",
      "0x000000000051d07a4fb3bd10121a343d85818da6    1.450000e+02            0.0   \n",
      "0x000000000096026fb41fc39f9875d164bd82e2dc    5.000000e-03            0.0   \n",
      "0x0000000000e189dd664b9ab08a33c4839953852c    0.000000e+00            0.0   \n",
      "0x0000000002032370b971dabd36d72f3e5a7bf1ee    9.459366e+04        39460.0   \n",
      "\n",
      "                                            total_repayments  total_redeems  \\\n",
      "wallet                                                                        \n",
      "0x00000000001accfa9cef68cf5371a23025b6d4b6      0.000000e+00       0.000000   \n",
      "0x000000000051d07a4fb3bd10121a343d85818da6      0.000000e+00       0.000000   \n",
      "0x000000000096026fb41fc39f9875d164bd82e2dc      0.000000e+00       0.000000   \n",
      "0x0000000000e189dd664b9ab08a33c4839953852c      0.000000e+00       4.835297   \n",
      "0x0000000002032370b971dabd36d72f3e5a7bf1ee      7.002457e-08   39465.558797   \n",
      "\n",
      "                                            total_liquidations  \\\n",
      "wallet                                                           \n",
      "0x00000000001accfa9cef68cf5371a23025b6d4b6                 0.0   \n",
      "0x000000000051d07a4fb3bd10121a343d85818da6                 0.0   \n",
      "0x000000000096026fb41fc39f9875d164bd82e2dc                 0.0   \n",
      "0x0000000000e189dd664b9ab08a33c4839953852c                 0.0   \n",
      "0x0000000002032370b971dabd36d72f3e5a7bf1ee                 0.0   \n",
      "\n",
      "                                            transaction_count  avg_tx_amount  \\\n",
      "wallet                                                                         \n",
      "0x00000000001accfa9cef68cf5371a23025b6d4b6                  1   2.000000e-09   \n",
      "0x000000000051d07a4fb3bd10121a343d85818da6                  1   1.450000e+02   \n",
      "0x000000000096026fb41fc39f9875d164bd82e2dc                  2   2.500000e-03   \n",
      "0x0000000000e189dd664b9ab08a33c4839953852c                 17   2.844292e-01   \n",
      "0x0000000002032370b971dabd36d72f3e5a7bf1ee                399   4.348853e+02   \n",
      "\n",
      "                                            deposit_borrow_ratio  \\\n",
      "wallet                                                             \n",
      "0x00000000001accfa9cef68cf5371a23025b6d4b6          2.000000e-09   \n",
      "0x000000000051d07a4fb3bd10121a343d85818da6          1.450000e+02   \n",
      "0x000000000096026fb41fc39f9875d164bd82e2dc          5.000000e-03   \n",
      "0x0000000000e189dd664b9ab08a33c4839953852c          0.000000e+00   \n",
      "0x0000000002032370b971dabd36d72f3e5a7bf1ee          2.397143e+00   \n",
      "\n",
      "                                            repay_borrow_ratio  \\\n",
      "wallet                                                           \n",
      "0x00000000001accfa9cef68cf5371a23025b6d4b6        0.000000e+00   \n",
      "0x000000000051d07a4fb3bd10121a343d85818da6        0.000000e+00   \n",
      "0x000000000096026fb41fc39f9875d164bd82e2dc        0.000000e+00   \n",
      "0x0000000000e189dd664b9ab08a33c4839953852c        0.000000e+00   \n",
      "0x0000000002032370b971dabd36d72f3e5a7bf1ee        1.774526e-12   \n",
      "\n",
      "                                            liquidation_penalty_ratio  \n",
      "wallet                                                                 \n",
      "0x00000000001accfa9cef68cf5371a23025b6d4b6                        0.0  \n",
      "0x000000000051d07a4fb3bd10121a343d85818da6                        0.0  \n",
      "0x000000000096026fb41fc39f9875d164bd82e2dc                        0.0  \n",
      "0x0000000000e189dd664b9ab08a33c4839953852c                        0.0  \n",
      "0x0000000002032370b971dabd36d72f3e5a7bf1ee                        0.0  \n"
     ]
    }
   ],
   "source": [
    "# Assuming df_clean is already prepared\n",
    "\n",
    "# Basic aggregations\n",
    "wallet_stats = df_clean.groupby('wallet').agg(\n",
    "    total_deposits=('amount', lambda x: x[df_clean.loc[x.index, 'tx_type'] == 'deposit'].sum()),\n",
    "    total_borrows=('amount', lambda x: x[df_clean.loc[x.index, 'tx_type'] == 'borrow'].sum()),\n",
    "    total_repayments=('amount', lambda x: x[df_clean.loc[x.index, 'tx_type'] == 'repay'].sum()),\n",
    "    total_redeems=('amount', lambda x: x[df_clean.loc[x.index, 'tx_type'] == 'redeemunderlying'].sum()),\n",
    "    total_liquidations=('amount', lambda x: x[df_clean.loc[x.index, 'tx_type'] == 'liquidationcall'].sum()),\n",
    "    transaction_count=('tx_type', 'count'),\n",
    "    avg_tx_amount=('amount', 'mean')\n",
    ").fillna(0)\n",
    "\n",
    "# Behavior ratios\n",
    "wallet_stats['deposit_borrow_ratio'] = wallet_stats['total_deposits'] / (wallet_stats['total_borrows'] + 1)\n",
    "wallet_stats['repay_borrow_ratio'] = wallet_stats['total_repayments'] / (wallet_stats['total_borrows'] + 1)\n",
    "wallet_stats['liquidation_penalty_ratio'] = wallet_stats['total_liquidations'] / (wallet_stats['total_borrows'] + 1)\n",
    "\n",
    "# View engineered features\n",
    "print(wallet_stats.head())\n"
   ]
  },
  {
   "cell_type": "code",
   "execution_count": 9,
   "id": "79e76715-2c0c-4b73-a465-ec1da2666fc3",
   "metadata": {},
   "outputs": [],
   "source": [
    "from sklearn.preprocessing import MinMaxScaler\n",
    "\n",
    "# Select features for scoring\n",
    "good_features = [\n",
    "    'total_deposits',\n",
    "    'deposit_borrow_ratio',\n",
    "    'repay_borrow_ratio',\n",
    "    'transaction_count'\n",
    "]\n",
    "\n",
    "risky_features = [\n",
    "    'total_liquidations',\n",
    "    'liquidation_penalty_ratio'\n",
    "]"
   ]
  },
  {
   "cell_type": "code",
   "execution_count": 10,
   "id": "421b7f1c-43f7-44c7-9adf-ab3b680af89a",
   "metadata": {},
   "outputs": [],
   "source": [
    "# Normalize good behavior features\n",
    "scaler_good = MinMaxScaler()\n",
    "wallet_stats[good_features] = scaler_good.fit_transform(wallet_stats[good_features])\n",
    "\n",
    "# Normalize risky behavior features\n",
    "scaler_risky = MinMaxScaler()\n",
    "wallet_stats[risky_features] = scaler_risky.fit_transform(wallet_stats[risky_features])"
   ]
  },
  {
   "cell_type": "code",
   "execution_count": 11,
   "id": "04514647-18c3-4202-822d-907e8bba646b",
   "metadata": {},
   "outputs": [],
   "source": [
    "\n",
    "# Compute score: Weighted sum of good - risky behaviors\n",
    "wallet_stats['raw_score'] = (\n",
    "    0.4 * wallet_stats['total_deposits'] +\n",
    "    0.2 * wallet_stats['deposit_borrow_ratio'] +\n",
    "    0.2 * wallet_stats['repay_borrow_ratio'] +\n",
    "    0.2 * wallet_stats['transaction_count'] -\n",
    "    0.3 * wallet_stats['total_liquidations'] -\n",
    "    0.3 * wallet_stats['liquidation_penalty_ratio']\n",
    ")\n"
   ]
  },
  {
   "cell_type": "code",
   "execution_count": 12,
   "id": "61beca60-7648-4b15-a5d0-c8a006ff98be",
   "metadata": {},
   "outputs": [],
   "source": [
    "# Normalize final score to 0-1000 range\n",
    "scaler_final = MinMaxScaler(feature_range=(0, 1000))\n",
    "wallet_stats['credit_score'] = scaler_final.fit_transform(wallet_stats[['raw_score']]).round(0).astype(int)\n"
   ]
  },
  {
   "cell_type": "code",
   "execution_count": 13,
   "id": "9365b388-11ff-4aff-ac42-09522be8d5c6",
   "metadata": {},
   "outputs": [
    {
     "name": "stdout",
     "output_type": "stream",
     "text": [
      "Scoring complete. Output saved to wallet_scores.csv\n"
     ]
    }
   ],
   "source": [
    "# Save Final Output\n",
    "wallet_scores = wallet_stats[['credit_score']].reset_index()\n",
    "wallet_scores.to_csv('wallet_scores.csv', index=False)\n",
    "\n",
    "print('Scoring complete. Output saved to wallet_scores.csv')\n"
   ]
  },
  {
   "cell_type": "code",
   "execution_count": 14,
   "id": "ee5a2338-cc6c-494c-be11-883b792c87e0",
   "metadata": {},
   "outputs": [
    {
     "data": {
      "text/html": [
       "<a href=\"wallet_scores.csv\" download>Click here to download wallet_scores.csv</a>"
      ],
      "text/plain": [
       "<IPython.core.display.HTML object>"
      ]
     },
     "execution_count": 14,
     "metadata": {},
     "output_type": "execute_result"
    }
   ],
   "source": [
    "import pandas as pd\n",
    "from IPython.display import HTML\n",
    "\n",
    "# Assuming your DataFrame is called wallet_scores\n",
    "wallet_scores.to_csv('wallet_scores.csv', index=False)\n",
    "\n",
    "# Create download link\n",
    "HTML('<a href=\"wallet_scores.csv\" download>Click here to download wallet_scores.csv</a>')\n"
   ]
  },
  {
   "cell_type": "code",
   "execution_count": 15,
   "id": "7cb2d256-7e36-4b4e-8292-848ab33a64f9",
   "metadata": {},
   "outputs": [
    {
     "data": {
      "image/png": "[encoded data removed]",
      "text/plain": [
       "<Figure size 1000x500 with 1 Axes>"
      ]
     },
     "metadata": {},
     "output_type": "display_data"
    }
   ],
   "source": [
    "import matplotlib.pyplot as plt\n",
    "\n",
    "# Plot histogram\n",
    "wallet_stats['credit_score'].plot.hist(bins=10, figsize=(10,5), color='skyblue')\n",
    "plt.title('Wallet Credit Score Distribution')\n",
    "plt.xlabel('Credit Score')\n",
    "plt.ylabel('Wallet Count')\n",
    "plt.grid(True)\n",
    "plt.show()\n"
   ]
  },
  {
   "cell_type": "code",
   "execution_count": null,
   "id": "af2429c7-c36a-40d8-b7c9-ce66f0f52642",
   "metadata": {},
   "outputs": [],
   "source": []
  }
 ],
 "metadata": {
  "kernelspec": {
   "display_name": "Python 3 (ipykernel)",
   "language": "python",
   "name": "python3"
  },
  "language_info": {
   "codemirror_mode": {
    "name": "ipython",
    "version": 3
   },
   "file_extension": ".py",
   "mimetype": "text/x-python",
   "name": "python",
   "nbconvert_exporter": "python",
   "pygments_lexer": "ipython3",
   "version": "3.11.0"
  }
 },
 "nbformat": 4,
 "nbformat_minor": 5
}
